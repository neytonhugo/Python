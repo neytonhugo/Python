{
 "cells": [
  {
   "cell_type": "code",
   "execution_count": 1,
   "id": "f39b941b",
   "metadata": {
    "scrolled": false
   },
   "outputs": [
    {
     "name": "stderr",
     "output_type": "stream",
     "text": [
      "\n",
      "\n",
      "====== WebDriver manager ======\n",
      "Current google-chrome version is 106.0.5249\n",
      "Get LATEST chromedriver version for 106.0.5249 google-chrome\n",
      "Driver [C:\\Users\\hugocen\\.wdm\\drivers\\chromedriver\\win32\\106.0.5249.61\\chromedriver.exe] found in cache\n"
     ]
    }
   ],
   "source": [
    "import pyautogui\n",
    "import time\n",
    "import pyperclip\n",
    "import pandas as pd\n",
    "from selenium import webdriver\n",
    "from selenium.webdriver.common.by import By\n",
    "from selenium.webdriver.common.keys import Keys\n",
    "from selenium.webdriver.support.ui import WebDriverWait\n",
    "from selenium.webdriver.support import expected_conditions as EC\n",
    "from webdriver_manager.chrome import ChromeDriverManager\n",
    "\n",
    "navegador = webdriver.Chrome(ChromeDriverManager().install())\n",
    "\n",
    "plan = pd.read_excel(r\"S:\\Fechamentos\\Fechamento_2022\\MFG\\Carga Componentes\\IC Automatico.xlsm\", sheet_name=\"IC\")\n",
    "\n",
    "num_ordem = int((plan['Apoio IC'] [0]))\n",
    "Local = str((plan['Local'] [0]))\n",
    "\n",
    "#print(num_ordem)\n",
    "\n",
    "# Abrir Chrome no JDE\n",
    "#abre o link\n",
    "navegador.get(r\"https://e1lapd.aws.baxter.com/jde/E1Menu.maf?jdeowpBackButtonProtect=PROTECTED\")\n",
    "#Aguarda a pagina aparecer\n",
    "while len(navegador.find_elements_by_id('carousel')) < 1:\n",
    "    time.sleep(1)\n",
    "\n",
    "    \n",
    "wait = WebDriverWait(navegador, 200)\n",
    "\n",
    "#Menu\n",
    "wait.until(EC.element_to_be_clickable((By.ID, 'drop_mainmenu'))).click()\n",
    "\n",
    "#baxter Menu\n",
    "wait.until(EC.element_to_be_clickable((By.XPATH, '/html/body/div[3]/div/div[2]/div[3]/div/div[2]/div[4]/div/div/div[2]/div[1]/div/table/tbody/tr/td[4]/table/tbody/tr/td/table/tbody/tr/td[1]/span'))).click()\n",
    "\n",
    "#Manufatura\n",
    "wait.until(EC.element_to_be_clickable((By.XPATH, '/html/body/div[10]/table/tbody/tr/td/div/div[1]/div/table/tbody/tr/td[4]/table/tbody/tr/td/table/tbody/tr/td[1]/span'))).click()\n",
    "\n",
    "#MFG Brasil\n",
    "wait.until(EC.element_to_be_clickable((By.XPATH, '/html/body/div[11]/table/tbody/tr/td/div/div/div/table/tbody/tr/td[4]/table/tbody/tr/td/table/tbody/tr/td[1]/span'))).click()\n",
    "\n",
    "#Relatório chão de fabrica\n",
    "wait.until(EC.element_to_be_clickable((By.XPATH, '/html/body/div[12]/table/tbody/tr/td/div/div[3]/div/table/tbody/tr/td[4]/table/tbody/tr/td/table/tbody/tr/td[1]/span'))).click()\n",
    "\n",
    "#Conclusões integrais\n",
    "wait.until(EC.element_to_be_clickable((By.XPATH, '/html/body/div[13]/table/tbody/tr/td/div/div[5]/div/table/tbody/tr/td[4]/table/tbody/tr/td/table/tbody/tr/td[1]/a'))).click()\n",
    "\n",
    "#indo para o iFrame da pagina interna\n",
    "navegador.switch_to.frame(\"e1menuAppIframe\")\n",
    "\n",
    "for x in range (num_ordem):\n",
    "    wo = int((plan['Nº da Ordem'] [x]))\n",
    "    \n",
    "    #Campo WO\n",
    "    wait.until(EC.element_to_be_clickable((By.XPATH, '/html/body/form[3]/div/table/tbody/tr/td/div/span[2]/table/tbody/tr[2]/td/table/tbody/tr/td/table/tbody/tr[1]/td/div[1]/table/tbody/tr[1]/td[2]/div/nobr/input'))).send_keys(wo)\n",
    "    \n",
    "    #Campo W.O. (Pesquisar) Enter\n",
    "    wait.until(EC.element_to_be_clickable((By.XPATH, '/html/body/form[3]/div/table/tbody/tr/td/div/span[2]/table/tbody/tr[2]/td/table/tbody/tr/td/table/tbody/tr[1]/td/div[1]/table/tbody/tr[1]/td[2]/div/nobr/input'))).send_keys(Keys.ENTER)\n",
    "    time.sleep(1.5)\n",
    "    \n",
    "    #Seleciona tudo\n",
    "    wait.until(EC.element_to_be_clickable((By.XPATH, '/html/body/form[3]/div/table/tbody/tr/td/div/span[2]/table/tbody/tr[2]/td/table/tbody/tr/td/table/tbody/tr[2]/td/div/table/tbody/tr/td[2]/table/tbody/tr/td/table/tbody/tr/td[1]/div/input'))).click()\n",
    "    time.sleep(0.3)\n",
    "    \n",
    "    #Selecionar(ENTRAR NA ORDEM)\n",
    "    wait.until(EC.element_to_be_clickable((By.XPATH, '/html/body/form[3]/table[2]/tbody/tr/td/table/tbody/tr/td[1]/a/img'))).click()\n",
    "    \n",
    "    #Quantidade\n",
    "    Quant = str((plan['Quant. Pedida'] [x]))\n",
    "    wait.until(EC.element_to_be_clickable((By.XPATH, '/html/body/form[3]/div/table/tbody/tr/td/div/span[2]/span/table/tbody/tr/td/table/tbody/tr/td/table/tbody/tr/td/span/div/span[2]/table[2]/tbody/tr/td/div/span[6]/nobr/input'))).send_keys(Quant)\n",
    "    wait.until(EC.element_to_be_clickable((By.XPATH, '/html/body/form[3]/div/table/tbody/tr/td/div/span[2]/span/table/tbody/tr/td/table/tbody/tr/td/table/tbody/tr/td/span/div/span[2]/table[2]/tbody/tr/td/div/span[6]/nobr/input'))).send_keys(Keys.BACKSPACE)\n",
    "    \n",
    "    #Aba Lote/Local\n",
    "    wait.until(EC.element_to_be_clickable((By.XPATH, '/html/body/form[3]/div/table/tbody/tr/td/div/span[2]/span/table/tbody/tr/td/span/table/tbody/tr/td/table/tbody/tr/td[2]/table/tbody/tr/td/table/tbody/tr/td/span/a'))).click()\n",
    "    time.sleep(0.2)\n",
    "    \n",
    "    #Local\n",
    "    wait.until(EC.element_to_be_clickable((By.XPATH, '/html/body/form[3]/div/table/tbody/tr/td/div/span[2]/span/table/tbody/tr/td/table/tbody/tr/td/table/tbody/tr/td/span/div/span[2]/nobr/input'))).send_keys(Local)\n",
    "    \n",
    "    Lote = str((plan['Lote/ Série'] [x]))\n",
    "    \n",
    "    #TAB para campo lote\n",
    "    wait.until(EC.element_to_be_clickable((By.XPATH, '/html/body/form[3]/div/table/tbody/tr/td/div/span[2]/span/table/tbody/tr/td/table/tbody/tr/td/table/tbody/tr/td/span/div/span[2]/nobr/input'))).send_keys(Keys.TAB)\n",
    "    time.sleep(0.2)\n",
    "    \n",
    "    #Lote\n",
    "    wait.until(EC.element_to_be_clickable((By.XPATH, '/html/body/form[3]/div/table/tbody/tr/td/div/span[2]/span/table/tbody/tr/td/table/tbody/tr/td/table/tbody/tr/td/span/div/span[6]/nobr/input'))).send_keys(Lote)\n",
    "\n",
    "    #Clica no campo abaixo para gerar efeito das alterações    \n",
    "    wait.until(EC.element_to_be_clickable((By.XPATH, '/html/body/form[3]/div/table/tbody/tr/td/div/span[2]/span/table/tbody/tr/td/table/tbody/tr/td/table/tbody/tr/td/span/div/span[10]/nobr/input'))).click()\n",
    "    time.sleep(1)\n",
    "\n",
    "    #Salvar e Fechar\n",
    "    wait.until(EC.element_to_be_clickable((By.XPATH, '/html/body/form[3]/div/table/tbody/tr/td/div/span[3]/button'))).click()\n",
    "    navegador.find_element_by_id('C0_561').click()\n",
    "\n",
    "    #Limpar campo wo\n",
    "    for i in range(9):\n",
    "        #campo wo\n",
    "        wait.until(EC.element_to_be_clickable((By.XPATH, '/html/body/form[3]/div/table/tbody/tr/td/div/span[2]/table/tbody/tr[2]/td/table/tbody/tr/td/table/tbody/tr[1]/td/div[1]/table/tbody/tr[1]/td[2]/div/nobr/input'))).send_keys(Keys.BACKSPACE)\n",
    "\n",
    "navegador.close()\n",
    "\n",
    "# wait.until(EC.element_to_be_clickable((By.XPATH, ''))).click()\n",
    "# wait.until(EC.element_to_be_clickable((By.XPATH, ''))).click()\n",
    "# wait.until(EC.element_to_be_clickable((By.XPATH, ''))).click()\n",
    "# wait.until(EC.element_to_be_clickable((By.XPATH, ''))).click()\n",
    "\n",
    "#time.sleep(2)\n",
    "#navegador.switch_to.default_content()\n",
    "\n",
    "#By: Neyton Hugo"
   ]
  },
  {
   "cell_type": "code",
   "execution_count": 21,
   "id": "9f46cb05",
   "metadata": {},
   "outputs": [
    {
     "name": "stdout",
     "output_type": "stream",
     "text": [
      "<selenium.webdriver.remote.webelement.WebElement (session=\"3ea438f6f8a1279b11f6943aab0fd051\", element=\"da4200fe-6607-4a5f-a85d-9db63f420971\")>\n"
     ]
    }
   ],
   "source": []
  },
  {
   "cell_type": "code",
   "execution_count": null,
   "id": "f6945ec6",
   "metadata": {},
   "outputs": [],
   "source": []
  },
  {
   "cell_type": "code",
   "execution_count": 21,
   "id": "3f6235cb",
   "metadata": {},
   "outputs": [],
   "source": []
  },
  {
   "cell_type": "code",
   "execution_count": 16,
   "id": "4689b313",
   "metadata": {
    "scrolled": false
   },
   "outputs": [],
   "source": []
  },
  {
   "cell_type": "code",
   "execution_count": null,
   "id": "b6c6b134",
   "metadata": {},
   "outputs": [],
   "source": []
  },
  {
   "cell_type": "code",
   "execution_count": null,
   "id": "80e26048",
   "metadata": {},
   "outputs": [],
   "source": []
  },
  {
   "cell_type": "code",
   "execution_count": null,
   "id": "f6c49893",
   "metadata": {},
   "outputs": [],
   "source": []
  }
 ],
 "metadata": {
  "kernelspec": {
   "display_name": "Python 3",
   "language": "python",
   "name": "python3"
  },
  "language_info": {
   "codemirror_mode": {
    "name": "ipython",
    "version": 3
   },
   "file_extension": ".py",
   "mimetype": "text/x-python",
   "name": "python",
   "nbconvert_exporter": "python",
   "pygments_lexer": "ipython3",
   "version": "3.8.8"
  }
 },
 "nbformat": 4,
 "nbformat_minor": 5
}
