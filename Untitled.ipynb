{
 "cells": [
  {
   "cell_type": "code",
   "execution_count": null,
   "id": "4df4f232",
   "metadata": {},
   "outputs": [],
   "source": [
    "/html/body/form/table/tbody/tr[3]/td[1]/div/div/div[2]/table[1]/tbody/tr[2]/td[4]/a\n"
   ]
  }
 ],
 "metadata": {
  "kernelspec": {
   "display_name": "Python 3",
   "language": "python",
   "name": "python3"
  },
  "language_info": {
   "codemirror_mode": {
    "name": "ipython",
    "version": 3
   },
   "file_extension": ".py",
   "mimetype": "text/x-python",
   "name": "python",
   "nbconvert_exporter": "python",
   "pygments_lexer": "ipython3",
   "version": "3.8.8"
  }
 },
 "nbformat": 4,
 "nbformat_minor": 5
}
