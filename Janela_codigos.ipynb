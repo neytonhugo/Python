{
 "cells": [
  {
   "cell_type": "code",
   "execution_count": 1,
   "id": "f39b941b",
   "metadata": {
    "scrolled": false
   },
   "outputs": [
    {
     "name": "stderr",
     "output_type": "stream",
     "text": [
      "\n",
      "\n",
      "====== WebDriver manager ======\n",
      "Current google-chrome version is 112.0.5615\n",
      "Get LATEST chromedriver version for 112.0.5615 google-chrome\n",
      "Driver [C:\\Users\\hugocen\\.wdm\\drivers\\chromedriver\\win32\\112.0.5615.49\\chromedriver.exe] found in cache\n"
     ]
    }
   ],
   "source": [
    "import time\n",
    "import pyperclip\n",
    "import pandas as pd\n",
    "import requests\n",
    "from selenium import webdriver\n",
    "from selenium.webdriver.common.by import By\n",
    "from selenium.webdriver.common.keys import Keys\n",
    "from selenium.webdriver.support.ui import WebDriverWait\n",
    "from selenium.webdriver.support import expected_conditions as EC\n",
    "from webdriver_manager.chrome import ChromeDriverManager\n",
    "from tkinter import *\n",
    "from selenium.webdriver.chrome.options import Options\n",
    "from selenium.webdriver.chrome.service import Service as ChromeService\n",
    "\n",
    "def IC_automatico():\n",
    "    navegador = webdriver.Chrome(service=ChromeService(ChromeDriverManager().install()))\n",
    "\n",
    "    navegador.get(r\"https://www.google.com.br/maps\")\n",
    "    \n",
    "    navegador.minimize_window()\n",
    "    \n",
    "    \n",
    "#--------------------------------------------------------    \n",
    "\n",
    "\n",
    "janela = Tk()\n",
    "\n",
    "janela.title(\"Sumário de códigos\")\n",
    "janela.geometry(\"325x400\")\n",
    "\n",
    "texto_orientacao = Label(janela, text=\"============= Escolha uma Rotina =============\")\n",
    "texto_orientacao.grid(column=0, row=0)\n",
    "\n",
    "botao = Button(janela, text=\"I.C. Automático\", command=IC_automatico)\n",
    "botao.grid(column=0, row=1)\n",
    "\n",
    "janela.mainloop()\n",
    "\n",
    "\n",
    "\n",
    "\n",
    "#By: Neyton Hugo"
   ]
  },
  {
   "cell_type": "code",
   "execution_count": null,
   "id": "f41288c1",
   "metadata": {},
   "outputs": [],
   "source": []
  }
 ],
 "metadata": {
  "kernelspec": {
   "display_name": "Python 3",
   "language": "python",
   "name": "python3"
  },
  "language_info": {
   "codemirror_mode": {
    "name": "ipython",
    "version": 3
   },
   "file_extension": ".py",
   "mimetype": "text/x-python",
   "name": "python",
   "nbconvert_exporter": "python",
   "pygments_lexer": "ipython3",
   "version": "3.8.8"
  }
 },
 "nbformat": 4,
 "nbformat_minor": 5
}
