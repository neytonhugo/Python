{
 "cells": [
  {
   "cell_type": "code",
   "execution_count": 18,
   "id": "54dae747",
   "metadata": {},
   "outputs": [
    {
     "name": "stderr",
     "output_type": "stream",
     "text": [
      "\n",
      "\n",
      "====== WebDriver manager ======\n"
     ]
    },
    {
     "name": "stdout",
     "output_type": "stream",
     "text": [
      "6.0 2.0 2022.0\n"
     ]
    },
    {
     "name": "stderr",
     "output_type": "stream",
     "text": [
      "Current google-chrome version is 102.0.5005\n",
      "Get LATEST chromedriver version for 102.0.5005 google-chrome\n",
      "Driver [C:\\Users\\hugocen\\.wdm\\drivers\\chromedriver\\win32\\102.0.5005.61\\chromedriver.exe] found in cache\n"
     ]
    },
    {
     "ename": "AttributeError",
     "evalue": "'SwitchTo' object has no attribute 'new_window'",
     "output_type": "error",
     "traceback": [
      "\u001b[1;31m---------------------------------------------------------------------------\u001b[0m",
      "\u001b[1;31mAttributeError\u001b[0m                            Traceback (most recent call last)",
      "\u001b[1;32m<ipython-input-18-47d014f4886a>\u001b[0m in \u001b[0;36m<module>\u001b[1;34m\u001b[0m\n\u001b[0;32m     36\u001b[0m \u001b[0mtime\u001b[0m\u001b[1;33m.\u001b[0m\u001b[0msleep\u001b[0m\u001b[1;33m(\u001b[0m\u001b[1;36m5\u001b[0m\u001b[1;33m)\u001b[0m\u001b[1;33m\u001b[0m\u001b[1;33m\u001b[0m\u001b[0m\n\u001b[0;32m     37\u001b[0m \u001b[1;33m\u001b[0m\u001b[0m\n\u001b[1;32m---> 38\u001b[1;33m \u001b[0mnavegador\u001b[0m\u001b[1;33m.\u001b[0m\u001b[0mswitch_to\u001b[0m\u001b[1;33m.\u001b[0m\u001b[0mnew_window\u001b[0m\u001b[1;33m(\u001b[0m\u001b[1;34m'tab'\u001b[0m\u001b[1;33m)\u001b[0m\u001b[1;33m\u001b[0m\u001b[1;33m\u001b[0m\u001b[0m\n\u001b[0m\u001b[0;32m     39\u001b[0m \u001b[1;33m\u001b[0m\u001b[0m\n\u001b[0;32m     40\u001b[0m \u001b[1;33m\u001b[0m\u001b[0m\n",
      "\u001b[1;31mAttributeError\u001b[0m: 'SwitchTo' object has no attribute 'new_window'"
     ]
    }
   ],
   "source": [
    "import pyautogui\n",
    "import time\n",
    "import pyperclip\n",
    "import pandas as pd\n",
    "from selenium import webdriver\n",
    "from selenium.webdriver.common.by import By\n",
    "from selenium.webdriver.common.keys import Keys\n",
    "from selenium.webdriver.support.ui import WebDriverWait\n",
    "from selenium.webdriver.support import expected_conditions as EC\n",
    "from webdriver_manager.chrome import ChromeDriverManager\n",
    "\n",
    "\n",
    "plan = pd.read_excel(r\"S:\\Neyton Hugo\\POMS.xlsx\")\n",
    "\n",
    "mes = str((plan['Mês'] [0]))\n",
    "dia = str((plan['Dia'] [0]))\n",
    "ano = str((plan['Ano'] [0]))\n",
    "print(mes, dia, ano)\n",
    "\n",
    "\n",
    "navegador = webdriver.Chrome(ChromeDriverManager().install())\n",
    "#Abre reports\n",
    "navegador.get(r\"http://brsprpt001/reportsystem/Reporte.aspx\")\n",
    "\n",
    "#Aguarda a pagina aparecer\n",
    "while len(navegador.find_elements_by_id('TreeView1t8')) < 1:\n",
    "    time.sleep(1)\n",
    "\n",
    "wait = WebDriverWait(navegador, 20)\n",
    "\n",
    "#clica em Innerpack e Masterpack por data (custos)\n",
    "wait.until(EC.element_to_be_clickable((By.XPATH, '/html/body/form/table/tbody/tr[3]/td[1]/div/div/div[2]/table[1]/tbody/tr[2]/td[4]/a'))).click()\n",
    "\n",
    "#View Report\n",
    "wait.until(EC.element_to_be_clickable((By.XPATH, '/html/body/form/table/tbody/tr[3]/td[2]/table/tbody/tr/td[2]/input[1]'))).click()\n",
    "time.sleep(5)\n",
    "\n",
    "navegador.switch_to.new_window('tab')\n",
    "\n",
    "\n",
    "\n",
    "navegador.SwitchTo().window('http://brsprpt001/reportsystem/ReportViewer.aspx');\n",
    "time.sleep(5)\n",
    "\n",
    "\n",
    "\n",
    "#Campo DATA INICIAL\n",
    "wait.until(EC.element_to_be_clickable((By.XPATH, '/html/body/table/tbody/tr/td/table/tbody/tr[2]/td/div/form/div/div/fieldset[1]/table/tbody/tr/td/table/tbody/tr[2]/td/table/tbody/tr/td[1]/table/tbody/tr/td/table/tbody/tr[2]/td[1]/input'))).send_keys(data)\n",
    "\n",
    "#Campo DATA FINAL\n",
    "wait.until(EC.element_to_be_clickable((By.XPATH, '/html/body/table/tbody/tr/td/table/tbody/tr[2]/td/div/form/div/div/fieldset[2]/table/tbody/tr/td/table/tbody/tr[2]/td/table/tbody/tr/td[1]/table/tbody/tr/td/table/tbody/tr[2]/td[1]/input'))).click()\n",
    "\n",
    "wait.until(EC.element_to_be_clickable((By.XPATH, ''))).click()\n",
    "\n",
    "wait.until(EC.element_to_be_clickable((By.XPATH, ''))).click()\n",
    "\n",
    "wait.until(EC.element_to_be_clickable((By.XPATH, ''))).click()\n",
    "\n",
    "\n",
    "\n",
    "\n",
    "\n",
    "\n",
    "\n",
    "#navegador.SwitchTo().window('http://brsprpt001/reportsystem/ReportViewer.aspx');\n",
    "\n",
    "#t = str((plan))\n",
    "\n",
    "#pyperclip.copy(t)\n",
    "\n",
    "\n",
    "\n",
    "#print(t)\n",
    "\n",
    "\n",
    "\n",
    "\n",
    "#print(['Lote'] [0])\n"
   ]
  },
  {
   "cell_type": "code",
   "execution_count": null,
   "id": "725a89fb",
   "metadata": {},
   "outputs": [],
   "source": [
    "plan.shape"
   ]
  },
  {
   "cell_type": "code",
   "execution_count": 101,
   "id": "d2031420",
   "metadata": {},
   "outputs": [
    {
     "name": "stdout",
     "output_type": "stream",
     "text": [
      "2021-12-15 00:00:00\n"
     ]
    }
   ],
   "source": [
    "print(data)"
   ]
  },
  {
   "cell_type": "code",
   "execution_count": null,
   "id": "fb053b12",
   "metadata": {},
   "outputs": [],
   "source": []
  }
 ],
 "metadata": {
  "kernelspec": {
   "display_name": "Python 3",
   "language": "python",
   "name": "python3"
  },
  "language_info": {
   "codemirror_mode": {
    "name": "ipython",
    "version": 3
   },
   "file_extension": ".py",
   "mimetype": "text/x-python",
   "name": "python",
   "nbconvert_exporter": "python",
   "pygments_lexer": "ipython3",
   "version": "3.8.8"
  }
 },
 "nbformat": 4,
 "nbformat_minor": 5
}
